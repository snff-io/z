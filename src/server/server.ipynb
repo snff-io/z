{
 "cells": [
  {
   "cell_type": "code",
   "execution_count": 3,
   "metadata": {},
   "outputs": [
    {
     "name": "stderr",
     "output_type": "stream",
     "text": [
      "[nltk_data] Downloading package wordnet to\n",
      "[nltk_data]     /home/zampinojosh/src/z/src/server/wordnet...\n"
     ]
    },
    {
     "data": {
      "text/plain": [
       "True"
      ]
     },
     "execution_count": 3,
     "metadata": {},
     "output_type": "execute_result"
    }
   ],
   "source": [
    "import nltk\n",
    "nltk.download('wordnet', \"/home/zampinojosh/src/z/src/server/wordnet\")"
   ]
  },
  {
   "cell_type": "code",
   "execution_count": 58,
   "metadata": {},
   "outputs": [
    {
     "name": "stdout",
     "output_type": "stream",
     "text": [
      "1) Original: 'I have a question for you.' -> Z code: '13'\n",
      "2) Original: 'You have a question for me.' -> Z code: '31'\n",
      "3) Original: 'Do you know?' -> Z code: '63'\n",
      "4) Original: 'Question them.' -> Z code: '3'\n",
      "5) Original: 'Do they know?' -> Z code: '63'\n",
      "6) Original: 'ask.' -> Z code: ''\n",
      "7) Original: 'meet me and them soon' -> Z code: '1'\n",
      "Expanded synonyms for 'measure': measure out amount assess appraise measuring stick beat cadence quantify evaluate quantity measuring mensurate value metre meter measuring rod step measure bar valuate touchstone bill standard mensuration criterion measurement\n"
     ]
    }
   ],
   "source": [
    "from nltk.corpus import wordnet as wn\n",
    "import string\n",
    "\n",
    "token_map = {\n",
    "    'i': '1',\n",
    "    'me': '1',\n",
    "    'you': '2',\n",
    "    'question': '3',\n",
    "    'less': '4',\n",
    "    'more': '5',\n",
    "    'answer': '6',\n",
    "    'them': '7',\n",
    "    'measure': '8'    \n",
    "    # Additional mappings can be added here\n",
    "}\n",
    "\n",
    "punctuation_map = {\n",
    "    '?': '3',  # Token for \"question\"\n",
    "    '!': '9',  # Token for \"emphasis\"\n",
    "    # You can add more mappings if other punctuation marks carry specific meanings\n",
    "}\n",
    "\n",
    "# def expand_synonyms(word):\n",
    "#     \"\"\"Generate synonyms for a given word using WordNet, including the original word.\"\"\"\n",
    "#     synonyms = {word}  # Start with the original word in the set\n",
    "#     for synset in wn.synsets(word):\n",
    "#         synonyms.update(lemma.name().replace('_', ' ') for lemma in synset.lemmas())\n",
    "#     return synonyms\n",
    "\n",
    "# def expand_synonyms(word, depth=1):\n",
    "#     \"\"\"Generate synonyms for a given word using WordNet, including the original word and second-order synonyms.\"\"\"\n",
    "#     def get_synonyms(term, current_depth):\n",
    "#         if current_depth > depth:\n",
    "#             return set()\n",
    "#         synonyms = {term}\n",
    "#         for synset in wn.synsets(term):\n",
    "#             for lemma in synset.lemmas():\n",
    "#                 synonym = lemma.name().replace('_', ' ')\n",
    "#                 synonyms.add(synonym)\n",
    "#                 if current_depth < depth:\n",
    "#                     synonyms.update(get_synonyms(synonym, current_depth + 1))\n",
    "#         return synonyms\n",
    "\n",
    "#     return get_synonyms(word, 0)\n",
    "\n",
    "def expand_synonyms(word, depth=3):\n",
    "    \"\"\"Generate synonyms for a given word using WordNet, including the original word and, conditionally, second-order synonyms.\"\"\"\n",
    "    def get_synonyms(term, current_depth):\n",
    "        if current_depth > depth:\n",
    "            return set()\n",
    "        synonyms = set()\n",
    "        has_expanded = False  # Flag to check if we have expanded to second-order\n",
    "        for synset in wn.synsets(term):\n",
    "            for lemma in synset.lemmas():\n",
    "                synonym = lemma.name().replace('_', ' ')\n",
    "                synonyms.add(synonym)\n",
    "                # Expand further only if no synonyms were found at the first level (and we are not at max depth)\n",
    "                if not has_expanded and current_depth < depth:\n",
    "                    additional_synonyms = get_synonyms(synonym, current_depth + 1)\n",
    "                    if additional_synonyms:\n",
    "                        has_expanded = True  # Update flag when expansion occurs\n",
    "                    synonyms.update(additional_synonyms)\n",
    "        return synonyms\n",
    "\n",
    "    return get_synonyms(word, 0)\n",
    "\n",
    "\n",
    "\n",
    "\n",
    "\n",
    "def build_translation_dict():\n",
    "    \"\"\"Build a translation dictionary using predefined tokens and WordNet synonyms.\"\"\"\n",
    "    translation_dict = {}\n",
    "    for word, token in token_map.items():\n",
    "        for synonym in expand_synonyms(word):\n",
    "            translation_dict[synonym.lower()] = token\n",
    "            \n",
    "    return translation_dict\n",
    "\n",
    "translation_dict = build_translation_dict()\n",
    "\n",
    "def translate_to_z(sentence):\n",
    "    # Create a list to store translated tokens\n",
    "    translated = []\n",
    "    # Remove and translate punctuation using a modified approach\n",
    "    words = sentence.split()\n",
    "    for word in words:\n",
    "        # Strip punctuation from the current word\n",
    "        stripped_word = word.strip(string.punctuation).lower()\n",
    "        # Translate the stripped word\n",
    "        if stripped_word:\n",
    "            translated.append(translation_dict.get(stripped_word, ''))\n",
    "        # Check for trailing punctuation in the original word and translate if mapped\n",
    "        for char in word:\n",
    "            if char in punctuation_map:\n",
    "                translated.append(punctuation_map[char])\n",
    "\n",
    "    return ' '.join(translated)\n",
    "\n",
    "# Example usage\n",
    "\n",
    "sentences = [\n",
    "    \"I have a question for you.\",\n",
    "    \"You have a question for me.\",\n",
    "    \"Do you know?\",\n",
    "    \"Question them.\",\n",
    "    \"Do they know?\",\n",
    "    \"ask.\",\n",
    "    \"meet me and them soon\"\n",
    "]\n",
    "\n",
    "# Function to format and print each sentence with its translation\n",
    "def print_translations(sentences):\n",
    "    for i, sentence in enumerate(sentences, 1):\n",
    "        z_code = translate_to_z(sentence).replace(\" \", \"\")\n",
    "        print(f\"{i}) Original: '{sentence}' -> Z code: '{z_code}'\")\n",
    "\n",
    "print_translations(sentences)\n",
    "\n",
    "\n",
    "expanded_synonyms = \" \".join(expand_synonyms(\"measure\"))\n",
    "print(f\"Expanded synonyms for 'measure': {expanded_synonyms}\")"
   ]
  },
  {
   "cell_type": "code",
   "execution_count": null,
   "metadata": {},
   "outputs": [],
   "source": []
  }
 ],
 "metadata": {
  "kernelspec": {
   "display_name": "v",
   "language": "python",
   "name": "python3"
  },
  "language_info": {
   "codemirror_mode": {
    "name": "ipython",
    "version": 3
   },
   "file_extension": ".py",
   "mimetype": "text/x-python",
   "name": "python",
   "nbconvert_exporter": "python",
   "pygments_lexer": "ipython3",
   "version": "3.11.2"
  }
 },
 "nbformat": 4,
 "nbformat_minor": 2
}
